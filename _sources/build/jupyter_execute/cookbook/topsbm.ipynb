{
 "cells": [
  {
   "cell_type": "markdown",
   "id": "95886d14",
   "metadata": {},
   "source": [
    "# TopSBM: modeling texts as a bipartite network"
   ]
  },
  {
   "cell_type": "markdown",
   "id": "93fe23fa",
   "metadata": {},
   "source": [
    "## Import network"
   ]
  },
  {
   "cell_type": "markdown",
   "id": "c5c6f8ef",
   "metadata": {},
   "source": [
    "## inference example"
   ]
  },
  {
   "cell_type": "markdown",
   "id": "77d17134",
   "metadata": {
    "vscode": {
     "languageId": "plaintext"
    }
   },
   "source": [
    "Testing math blocks\n",
    "\n",
    "$a^2 + b^2 = 1$ "
   ]
  },
  {
   "cell_type": "markdown",
   "id": "ab2b68bf",
   "metadata": {},
   "source": [
    "Modeling texts as a bipartite network "
   ]
  }
 ],
 "metadata": {
  "language_info": {
   "name": "python"
  }
 },
 "nbformat": 4,
 "nbformat_minor": 5
}