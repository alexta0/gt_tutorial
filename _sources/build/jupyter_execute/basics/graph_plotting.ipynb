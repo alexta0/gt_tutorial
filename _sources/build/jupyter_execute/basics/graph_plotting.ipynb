{
 "cells": [
  {
   "cell_type": "markdown",
   "id": "7cb11801",
   "metadata": {},
   "source": [
    "# Plot graphs"
   ]
  },
  {
   "cell_type": "markdown",
   "id": "c7b87f56",
   "metadata": {},
   "source": []
  }
 ],
 "metadata": {
  "language_info": {
   "name": "python"
  }
 },
 "nbformat": 4,
 "nbformat_minor": 5
}