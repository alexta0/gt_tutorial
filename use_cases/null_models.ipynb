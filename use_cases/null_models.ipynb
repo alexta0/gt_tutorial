{
 "cells": [
  {
   "cell_type": "markdown",
   "id": "6bd0eec6",
   "metadata": {},
   "source": [
    "# Null models"
   ]
  },
  {
   "cell_type": "markdown",
   "id": "49a4e603",
   "metadata": {},
   "source": []
  }
 ],
 "metadata": {
  "language_info": {
   "name": "python"
  }
 },
 "nbformat": 4,
 "nbformat_minor": 5
}
