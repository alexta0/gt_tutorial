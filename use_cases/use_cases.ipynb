{
 "cells": [
  {
   "cell_type": "markdown",
   "id": "83f7d34d",
   "metadata": {
    "vscode": {
     "languageId": "plaintext"
    }
   },
   "source": [
    "# Use Cases 1"
   ]
  },
  {
   "cell_type": "markdown",
   "id": "cfa8d287",
   "metadata": {},
   "source": [
    "## Random graphs generation"
   ]
  },
  {
   "cell_type": "markdown",
   "id": "393c15e6",
   "metadata": {},
   "source": []
  }
 ],
 "metadata": {
  "language_info": {
   "name": "python"
  }
 },
 "nbformat": 4,
 "nbformat_minor": 5
}
